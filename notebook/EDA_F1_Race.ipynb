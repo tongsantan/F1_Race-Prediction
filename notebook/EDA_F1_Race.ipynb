{
 "cells": [
  {
   "cell_type": "markdown",
   "metadata": {},
   "source": [
    "## Dataset: F1 Database from ERGAST (Regression Problem) "
   ]
  },
  {
   "cell_type": "markdown",
   "metadata": {},
   "source": [
    "## Table of Contents\n",
    "#### 1. [Background](#part1)\n",
    "#### 2. [Problem Statement](#part2)\n",
    "#### 3. [Project Objectives](#part3)\n",
    "#### 4. [Primary questions](#part4)\n",
    "#### 5. [Datasets](#part5) \n",
    "#### 6. [Step 1: Load and Explore the data](#part6)  \n",
    "   - [6.1 Importing Data with Pandas](#part6.1)\n",
    "   - [6.2 Extracting year from unstructured date fields](#part6.2)\n",
    "   - [6.3 Extracting year from unstructured text data](#part6.3)\n",
    "\n",
    "#### 7. [Step 2: Data Wrangling on multiple tables](#part7)\n",
    "   - [7.1 Merging different tables together](#part7.1)\n",
    "   - [7.2 Feature Engineering using Mathematical Calculations](#part7.2) \n",
    "   - [7.3 Data Exploration and Visualization (Exploratory Data Analysis - EDA)](#part7.3)\n",
    "   \n",
    "#### 8. [Step 3: Data Cleansing and Transformation](#part8)\n",
    "   - [8.1 Descriptive Statistics](#part8.1)\n",
    "   - [8.2 Correlation](#part8.2)\n",
    "   - [8.3 Univariate Analysis - Numerical variables](#part8.3)"
   ]
  },
  {
   "cell_type": "markdown",
   "metadata": {},
   "source": [
    "## Background <a id=\"part1\"></a>\n",
    "Ergast.com is a webservice that provides a database of Formula 1 races, starting from the 1950 season until today. \n",
    "\n",
    "### Source & Acknowledgements\n",
    "\n",
    "The dataset, downloaded from http://ergast.com/mrd/db/#csv, includes information such as the time taken in each lap, the time taken for pit stops, the performance in the qualifying rounds etc. of all Formula 1 races."
   ]
  },
  {
   "cell_type": "markdown",
   "metadata": {},
   "source": [
    "## Problem Statement <a id=\"part2\"></a>\n",
    "\n",
    "How to implement a linear regression model for predicting number of points achieved by a driver in F1 race"
   ]
  },
  {
   "cell_type": "markdown",
   "metadata": {},
   "source": [
    "## Project Objectives <a id=\"part3\"></a>\n",
    "\n",
    "To extract data from a database, explore the data and formulate a prediction problem\n",
    "\n",
    "To create a tabular data table from multiple tables based on the formulated problem\n",
    "\n",
    "To wrangle and prepare the data ready for modeling, use the prepared data to build and evaluate a simple machine learning model\n",
    "\n",
    "To document the process, analysis, comparison and findings"
   ]
  },
  {
   "cell_type": "markdown",
   "metadata": {},
   "source": [
    "## Primary questions <a id=\"part4\"></a>"
   ]
  },
  {
   "cell_type": "markdown",
   "metadata": {},
   "source": [
    "Who (driver) is the winner for each year's Formula One Championship?\n",
    "\n",
    "Which team (constructor) is the winner for each year's Formula One Championship?\n",
    "\n",
    "Who (driver) has the most Championship titles till date?\n",
    "\n",
    "Who (driver) has the most number of pole positions (grid = 1) till date?\n",
    "\n",
    "Who (driver) has the most race wins (position = 1) till date?\n",
    "\n",
    "How does the different grid (pole positions) affect points achievement?\n",
    "\n",
    "How does the different rankings of fastest laps affect points achievement?\n",
    "\n",
    "Does race age (young or old) impact on points achievement?\n",
    "\n",
    "Does location of race impact points achievement?"
   ]
  },
  {
   "cell_type": "markdown",
   "metadata": {},
   "source": [
    "## Datasets Provided <a id=\"part5\"></a>"
   ]
  },
  {
   "cell_type": "markdown",
   "metadata": {},
   "source": [
    "1. circuits;\n",
    "2. constructorResults;\n",
    "3. constructorStandings;\n",
    "4. constructors (used here);\n",
    "5. driverStandings;\n",
    "6. drivers (used here);\n",
    "7. lapTimes;\n",
    "8. pitStops;\n",
    "9. qualifying;\n",
    "10. races (used here);\n",
    "11. results (used here);\n",
    "12. seasons;\n",
    "13. status (used here)."
   ]
  },
  {
   "cell_type": "code",
   "execution_count": null,
   "metadata": {},
   "outputs": [],
   "source": [
    "# import the pacakges\n",
    "import pandas as pd\n",
    "import numpy as np\n",
    "import matplotlib.pyplot as plt\n",
    "%matplotlib inline\n",
    "import seaborn as sns\n",
    "\n",
    "# to show all the columns of the dataframe in the notebeook\n",
    "pd.set_option('display.max_columns', None)\n",
    "pd.set_option('display.max_colwidth', None)\n",
    "\n",
    "import warnings\n",
    "warnings.filterwarnings(\"ignore\")"
   ]
  },
  {
   "cell_type": "markdown",
   "metadata": {},
   "source": [
    "### Step 1: Load and Explore the Data <a id=\"part6\"></a>"
   ]
  },
  {
   "cell_type": "markdown",
   "metadata": {},
   "source": [
    "### Importing Data with Pandas <a id=\"part6.1\"></a>"
   ]
  },
  {
   "cell_type": "code",
   "execution_count": null,
   "metadata": {},
   "outputs": [],
   "source": [
    "# 1st Dataset \"constructors_mod\"\n",
    "\n",
    "df_constructor = pd.read_csv('./raw_data/constructors.csv')\n",
    "display(df_constructor.head(10))\n",
    "\n",
    "# Drop the columns 'url', 'constructorRef', 'nationality' which are not useful\n",
    "\n",
    "df_constructor.drop(columns = ['url', 'constructorRef', 'nationality'], axis=1, inplace=True)\n",
    "df_constructor"
   ]
  },
  {
   "cell_type": "code",
   "execution_count": null,
   "metadata": {},
   "outputs": [],
   "source": [
    "# Basic summary of the dataset\n",
    "\n",
    "print(df_constructor.shape) # 211 rows, 2 columns\n",
    "print(df_constructor.size) # 422 observations in total\n",
    "print(df_constructor.dtypes) # 1 categorical column and 1 numeric column"
   ]
  },
  {
   "cell_type": "code",
   "execution_count": null,
   "metadata": {},
   "outputs": [],
   "source": [
    "# 2nd Dataset \"results_mod\"\n",
    "\n",
    "df_result = pd.read_csv('./raw_data/results.csv')\n",
    "df_result.head(10)"
   ]
  },
  {
   "cell_type": "code",
   "execution_count": null,
   "metadata": {},
   "outputs": [],
   "source": [
    "# Basic summary of the dataset\n",
    "\n",
    "print(df_result.shape) # 25,399 rows, 18 columns\n",
    "print(df_result.size) # 457,182 observations in total\n",
    "print(df_result.dtypes) # 9 categorical columns (wrong datatype because of \\N: should be int64) and 9 numeric columns"
   ]
  },
  {
   "cell_type": "markdown",
   "metadata": {},
   "source": [
    "### Extracting year from unstructured date fields <a id=\"part6.2\"></a>"
   ]
  },
  {
   "cell_type": "code",
   "execution_count": null,
   "metadata": {},
   "outputs": [],
   "source": [
    "# 3rd Dataset \"drivers_mod\"\n",
    "\n",
    "df_driver = pd.read_csv('./raw_data/drivers.csv')\n",
    "display(df_driver.head(10))\n",
    "\n",
    "# Extract year in unstructured datetime data 'dob'  \n",
    "\n",
    "df_driver['yob'] = pd.to_datetime(df_driver['dob']).dt.year\n",
    "\n",
    "# Apply mathematical Calculations to Features such as addition of 'forename' and 'surname' with an underscore\n",
    "\n",
    "df_driver['drivername'] = df_driver['forename'] + '_' + df_driver['surname']\n",
    "\n",
    "# Drop the column 'url', 'forename', 'surname', 'nationality', 'dob', 'driverRef' which are no longer useful\n",
    "\n",
    "df_driver.drop(columns = ['url', 'code', 'forename', 'surname', 'nationality', 'dob', 'driverRef'], axis=1, inplace=True)\n",
    "df_driver"
   ]
  },
  {
   "cell_type": "code",
   "execution_count": null,
   "metadata": {},
   "outputs": [],
   "source": [
    "# Basic summary of the dataset\n",
    "\n",
    "print(df_driver.shape) # 854 rows, 4 columns\n",
    "print(df_driver.size) # 3416 observations in total\n",
    "print(df_driver.dtypes) # 2 categorical columns and 2 numeric columns"
   ]
  },
  {
   "cell_type": "markdown",
   "metadata": {},
   "source": [
    "### Extracting year from unstructured text data <a id=\"part6.3\"></a>"
   ]
  },
  {
   "cell_type": "code",
   "execution_count": null,
   "metadata": {},
   "outputs": [],
   "source": [
    "# 4th Dataset \"races_mod\"\n",
    "\n",
    "df_circuit = pd.read_csv('./raw_data/races.csv')\n",
    "display(df_circuit.head(10))\n",
    "\n",
    "# Extract year in unstructured data 'url text'\n",
    "\n",
    "df_circuit['year'] = df_circuit['url'].str.extract('(\\d+)')\n",
    "\n",
    "df_circuit"
   ]
  },
  {
   "cell_type": "code",
   "execution_count": null,
   "metadata": {},
   "outputs": [],
   "source": [
    "# Display all the rows that have Null values\n",
    "\n",
    "display(df_circuit[pd.isnull(df_circuit).any(axis=1)])\n",
    "\n",
    "# Replace NaN value with 2021 in the year column\n",
    "\n",
    "df_circuit['year'] = df_circuit['year'].replace(np.nan, 2021)\n",
    "\n",
    "# Check to see if the new value 2021 is in index 1055\n",
    "\n",
    "df_circuit.loc[1055]"
   ]
  },
  {
   "cell_type": "code",
   "execution_count": null,
   "metadata": {},
   "outputs": [],
   "source": [
    "# Display the row where raceID = 1035. Notice that the year is 70 in the 'year' column which should not be the case\n",
    "\n",
    "display(df_circuit.loc[df_circuit['raceId'] == 1035])\n",
    "\n",
    "# Replace year 70 to be year 2020 and check again\n",
    "\n",
    "df_circuit['year'] = df_circuit['year'].replace(['70'], '2020')\n",
    "df_circuit.loc[1022]"
   ]
  },
  {
   "cell_type": "code",
   "execution_count": null,
   "metadata": {},
   "outputs": [],
   "source": [
    "# convert the year column datatype to integer\n",
    "\n",
    "df_circuit['year'] = df_circuit['year'].astype(int)\n",
    "\n",
    "# Drop the column 'url', 'time', 'date' which are no longer useful\n",
    "\n",
    "df_circuit.drop(columns = ['url', 'time', 'date'], axis=1, inplace=True)\n",
    "df_circuit"
   ]
  },
  {
   "cell_type": "code",
   "execution_count": null,
   "metadata": {},
   "outputs": [],
   "source": [
    "# Basic summary of the dataset\n",
    "\n",
    "print(df_circuit.shape) # 1,080 rows, 5 columns\n",
    "print(df_circuit.size) # 5,400 observations in total\n",
    "print(df_circuit.dtypes) # 1 categorical column and 4 numeric columns"
   ]
  },
  {
   "cell_type": "code",
   "execution_count": null,
   "metadata": {},
   "outputs": [],
   "source": [
    "# 5th Dataset \"status_mod\"\n",
    "\n",
    "df_status = pd.read_csv('./raw_data/status.csv')\n",
    "df_status.head(10)"
   ]
  },
  {
   "cell_type": "code",
   "execution_count": null,
   "metadata": {},
   "outputs": [],
   "source": [
    "# Basic summary of the dataset\n",
    "\n",
    "print(df_status.shape) # 137 rows, 2 columns\n",
    "print(df_status.size) # 274 observations in total\n",
    "print(df_status.dtypes) # 1 categorical column and 1 numeric column"
   ]
  },
  {
   "cell_type": "markdown",
   "metadata": {},
   "source": [
    "### Step 2: Data Wrangling on multiple tables <a id=\"part7\"></a>"
   ]
  },
  {
   "cell_type": "markdown",
   "metadata": {},
   "source": [
    "### Merging different tables together <a id=\"part7.1\"></a>"
   ]
  },
  {
   "cell_type": "code",
   "execution_count": null,
   "metadata": {},
   "outputs": [],
   "source": [
    "# joining df_result with df_driver by column driverID, using inner join\n",
    "\n",
    "df_result1 = pd.merge(df_result, df_driver, on='driverId')\n",
    "\n",
    "# joining df_result1 with df_circuit by column raceID, using inner join\n",
    "\n",
    "df_result2 = pd.merge(df_result1, df_circuit, on='raceId')\n",
    "\n",
    "# joining df_result2 with df_constructor by column constructorID, using inner join\n",
    "\n",
    "df_result3 = pd.merge(df_result2, df_constructor, on='constructorId')\n",
    "\n",
    "# joining df_result3 with df_status by column statusID, using inner join\n",
    "\n",
    "df_race_finished = pd.merge(df_result3, df_status, on='statusId')\n",
    "df_race_finished"
   ]
  },
  {
   "cell_type": "code",
   "execution_count": null,
   "metadata": {},
   "outputs": [],
   "source": [
    "# Drop the columns 'resultId', 'raceId', 'driverId', 'constructorId', 'number_x', 'positionText', 'positionOrder', 'time', 'milliseconds', 'fastestLapTime', 'statusId', 'number_y' and 'circuitId' which are not useful\n",
    "\n",
    "df_race_finished.drop(columns = ['resultId', 'raceId', 'driverId', 'constructorId', 'number_x', 'positionText', 'positionOrder', 'time', 'milliseconds', 'fastestLapTime', 'statusId', 'number_y', 'circuitId'], axis=1, inplace=True)\n",
    "df_race_finished"
   ]
  },
  {
   "cell_type": "code",
   "execution_count": null,
   "metadata": {},
   "outputs": [],
   "source": [
    "# rename the columns accordingly\n",
    "df_race_finished.rename(columns={'name_x': 'location', 'name_y': 'constructorname'}, inplace=True)\n",
    "df_race_finished"
   ]
  },
  {
   "cell_type": "markdown",
   "metadata": {},
   "source": [
    "### Feature Engineer 'race_age' column using Mathematical calculations  <a id=\"part7.2\"></a>"
   ]
  },
  {
   "cell_type": "code",
   "execution_count": null,
   "metadata": {},
   "outputs": [],
   "source": [
    "# Applying Mathematical substrations between features 'year' and 'yob' to derive the race_age of the driver\n",
    "\n",
    "df_race_finished['race_age'] = df_race_finished['year'] - df_race_finished['yob']\n",
    "df_race_finished.drop(columns = ['yob'], axis=1, inplace=True)\n",
    "df_race_finished"
   ]
  },
  {
   "cell_type": "code",
   "execution_count": null,
   "metadata": {},
   "outputs": [],
   "source": [
    "# Basic summary of the dataset\n",
    "\n",
    "print(df_race_finished.shape) # 25,399 rows, 14 columns\n",
    "print(df_race_finished.size) # 355,586 observations in total\n",
    "print(df_race_finished.dtypes) # 8 categorical columns ('position', 'fastestLap', 'rank', 'fastestLapSpeed' \n",
    "                                                # variables incorrect, should be numerical) and 6 numeric columns"
   ]
  },
  {
   "cell_type": "code",
   "execution_count": null,
   "metadata": {},
   "outputs": [],
   "source": [
    "# show the info of dataset\n",
    "\n",
    "df_race_finished.info() # there are no columns with missing values "
   ]
  },
  {
   "cell_type": "markdown",
   "metadata": {},
   "source": [
    "### Data Exploration and Visualization (Exploratory Data Analysis - EDA)  <a id=\"part7.3\"></a>"
   ]
  },
  {
   "cell_type": "markdown",
   "metadata": {},
   "source": [
    "### Driver's Championship ranking by season"
   ]
  },
  {
   "cell_type": "code",
   "execution_count": null,
   "metadata": {},
   "outputs": [],
   "source": [
    "# Create a user-defined function championship_driver(year) that shows the total points accumulated by each driver \n",
    "# in a given season. Based on the highest total points we can derive the winner of the championship in a particular year\n",
    "\n",
    "def championship_driver(year):\n",
    "    \"\"\"returns the total points for a driver in a particular season\"\"\"\n",
    "    # Create a column named \"total_points\" to sum up the number of points obtained by each driver\n",
    "    total_points = df_race_finished[(df_race_finished['year']== year)].groupby('drivername')['points'].sum().reset_index()\n",
    "    \n",
    "    # Sort total_points in descending order\n",
    "    total_points = total_points.sort_values(by=['points'], ascending=False)\n",
    "    \n",
    "    # Get top 20 results based on highest number of total points\n",
    "    total_points = total_points[0:20]\n",
    "    \n",
    "    # Show top 20 drivers\n",
    "    drivers = total_points.index\n",
    "    total_points.plot(kind = 'bar', x='drivername', y='points', figsize=(12,6), title = f\"Driver´s championship ranking of {year}\")"
   ]
  },
  {
   "cell_type": "code",
   "execution_count": null,
   "metadata": {},
   "outputs": [],
   "source": [
    "# choose the year to show the ranking between 2004 - 2021\n",
    "championship_driver(2021) # Max Verstappen is the winner"
   ]
  },
  {
   "cell_type": "markdown",
   "metadata": {},
   "source": [
    "### Constructor's Championship ranking by season"
   ]
  },
  {
   "cell_type": "code",
   "execution_count": null,
   "metadata": {},
   "outputs": [],
   "source": [
    "# Create a user-defined function championship_constructor(year) that shows the total points accumulated by each driver \n",
    "# in a given season. Based on the highest total points we can derive the winner of the championship in a particular year.\n",
    "\n",
    "def championship_constructor(year):\n",
    "    \"\"\"returns the total points for a constructor in a particular season\"\"\"\n",
    "    # Create a column named \"total_points\" to sum up the number of points obtained by each constructor\n",
    "    total_points = df_race_finished[(df_race_finished['year']== year)].groupby('constructorname')['points'].sum().reset_index()\n",
    "    \n",
    "    # Sort total_points in descending order\n",
    "    total_points = total_points.sort_values(by=['points'],ascending=False)\n",
    "    \n",
    "    # Get top 10 results based on highest number of total points\n",
    "    total_points = total_points[0:10]\n",
    "    \n",
    "    # Get top 10 constructors\n",
    "    drivers = total_points.index\n",
    "    total_points.plot(kind = 'bar', x='constructorname', y='points', figsize=(12,6), title = f\"Constructor´s championship ranking of {year}\")"
   ]
  },
  {
   "cell_type": "code",
   "execution_count": null,
   "metadata": {},
   "outputs": [],
   "source": [
    "# choose the year to show the ranking between 2004 - 2021\n",
    "championship_constructor(2021) # Mercedes is the winner"
   ]
  },
  {
   "cell_type": "markdown",
   "metadata": {},
   "source": [
    "### Drivers with most Championship titles: Lewis Hamilton (7) and Michael Schumacher (7)"
   ]
  },
  {
   "cell_type": "code",
   "execution_count": null,
   "metadata": {},
   "outputs": [],
   "source": [
    "# Create a column named \"sum_driver\" to sum up the number of points obtained by each driver in each year\n",
    "\n",
    "sum_driver = df_race_finished.groupby(['year','drivername'])['points'].sum().reset_index()\n",
    "\n",
    "# Find the maximum number of points obtained by each driver and assign it to a new variable 'champions' for each year\n",
    "\n",
    "champions = sum_driver.loc[sum_driver.reset_index().groupby(['year'])['points'].idxmax()]\n",
    "\n",
    "# Count the frequency in which the driver obtain the maximum points for each year \n",
    "\n",
    "champions = champions['drivername'].value_counts().reset_index()\n",
    "\n",
    "# Rename the columns as 'driver' and 'titles'\n",
    "\n",
    "champions.rename(columns={'index':'drivername','count':'titles'}, inplace = True)\n",
    "\n",
    "# Get top 20 results based on maximum points\n",
    "\n",
    "champions = champions[0:20]"
   ]
  },
  {
   "cell_type": "code",
   "execution_count": null,
   "metadata": {},
   "outputs": [],
   "source": [
    "# Plot a bar chart to show the drivers with highest number of wins in the F1 championship over the years\n",
    "champions.plot(kind = 'bar', x='drivername', y='titles', figsize=(12,6), title = f\"Drivers with more Championship titles\")"
   ]
  },
  {
   "cell_type": "markdown",
   "metadata": {},
   "source": [
    "### Driver with most pole positions (grid = 1): Lewis Hamilton (103)"
   ]
  },
  {
   "cell_type": "code",
   "execution_count": null,
   "metadata": {},
   "outputs": [],
   "source": [
    "# Create a column named \"driver_pole\" to sum up the number of pole positions (grid) obtained by each driver\n",
    "\n",
    "driver_pole = df_race_finished[df_race_finished['grid'] == 1].groupby('drivername')['grid'].sum().reset_index()\n",
    "\n",
    "# Sort driver_pole in descending order\n",
    "\n",
    "driver_pole = driver_pole.sort_values(by=['grid'], ascending=False)\n",
    "\n",
    "# Get top 20 results based on total pole positions obtained by each driver\n",
    "\n",
    "driver_pole = driver_pole[0:20]"
   ]
  },
  {
   "cell_type": "code",
   "execution_count": null,
   "metadata": {},
   "outputs": [],
   "source": [
    "# Plot a bar chart to show the drivers with highest number of pole positions (grid) in the F1 championship over the years\n",
    "\n",
    "driver_pole.plot(kind = 'bar', x='drivername', y='grid', figsize=(12,6), title = f\"Drivers with more pole positions (grid = 1)\")"
   ]
  },
  {
   "cell_type": "markdown",
   "metadata": {},
   "source": [
    "### Driver with most numbers of fastest lap (rank = 1) : Lewis Hamilton (59)"
   ]
  },
  {
   "cell_type": "code",
   "execution_count": null,
   "metadata": {},
   "outputs": [],
   "source": [
    "# Convert the datatype of rank to integer \n",
    "\n",
    "df_race_finished['rank'] = pd.to_numeric(df_race_finished['rank'], errors='coerce')\n",
    "\n",
    "# Subset the dataset by filtering for rank = 1 (fastest lap) and assign it to a new variable 'num_lap_rank'\n",
    "\n",
    "num_lap_rank = df_race_finished[df_race_finished['rank'] == 1].groupby('drivername')['rank'].sum().reset_index()\n",
    "\n",
    "# Sort num_lap_rank in descending order\n",
    "\n",
    "num_lap_rank = num_lap_rank.sort_values(by=['rank'], ascending=False)\n",
    "\n",
    "# Get top 20 results based on number of fastest lap obtained by each driver\n",
    "\n",
    "num_lap_rank = num_lap_rank[0:20]"
   ]
  },
  {
   "cell_type": "code",
   "execution_count": null,
   "metadata": {},
   "outputs": [],
   "source": [
    "# Plot a bar chart to show the top 20 drivers with highest number of fastest lap in F1 championship over the years\n",
    "\n",
    "num_lap_rank.plot(kind = 'bar', x='drivername', y='rank', figsize=(12,6), title = f\"Drivers with most numbers of fastest lap (rank = 1)\")"
   ]
  },
  {
   "cell_type": "markdown",
   "metadata": {},
   "source": [
    "### Driver with most race wins (position = 1): Michael Schumacher (91)"
   ]
  },
  {
   "cell_type": "code",
   "execution_count": null,
   "metadata": {},
   "outputs": [],
   "source": [
    "# Subset the dataset by filtering for position = 1 (Wins) and assign it to a new variable 'num_wins'\n",
    "\n",
    "num_wins = df_race_finished[(df_race_finished['position'] == '1')]\n",
    "\n",
    "# Convert the datatype of position to integer \n",
    "\n",
    "num_wins['position'] = num_wins['position'].astype(int)\n",
    "\n",
    "# Sum up the number of wins obtained by each driver\n",
    "\n",
    "num_wins = num_wins.groupby('drivername')['position'].sum().reset_index()\n",
    "\n",
    "# Sort num_wins in descending order\n",
    "\n",
    "num_wins = num_wins.sort_values(by=['position'], ascending=False)\n",
    "\n",
    "# Get top 20 results based on highest number of total points\n",
    "\n",
    "num_wins = num_wins[0:20]"
   ]
  },
  {
   "cell_type": "code",
   "execution_count": null,
   "metadata": {},
   "outputs": [],
   "source": [
    "# Plot a bar chart to show the top 20 drivers with highest number of wins in F1 championship over the years\n",
    "\n",
    "num_wins.plot(kind = 'bar', x='drivername', y='position', figsize=(12,6), title = f\"Drivers with more race wins (position = 1)\")"
   ]
  },
  {
   "cell_type": "markdown",
   "metadata": {},
   "source": [
    "### Step 3: Data Cleansing  <a id=\"part8\"></a>"
   ]
  },
  {
   "cell_type": "code",
   "execution_count": null,
   "metadata": {},
   "outputs": [],
   "source": [
    "# Note that there are some columns with '\\\\N' and NaN values that have caused their datatypes to be incorrect\n",
    "\n",
    "df_race_finished"
   ]
  },
  {
   "cell_type": "code",
   "execution_count": null,
   "metadata": {},
   "outputs": [],
   "source": [
    "# drop the date and time columns that have no meaningful contributions to modelling\n",
    "\n",
    "df_race_finished = df_race_finished.drop(columns = ['fp1_date', 'fp1_time', 'fp2_date', 'fp2_time', 'fp3_date', 'fp3_time', \\\n",
    "                                                    'quali_date', 'quali_time', 'sprint_date', 'sprint_time'])"
   ]
  },
  {
   "cell_type": "code",
   "execution_count": null,
   "metadata": {},
   "outputs": [],
   "source": [
    "# check the remaining columns with '\\\\N' values \n",
    "\n",
    "for col in df_race_finished.columns:\n",
    "    print(col)\n",
    "    display(df_race_finished[df_race_finished[col] == '\\\\N'])\n",
    "    print(\"==================================================\")\n",
    "    print()"
   ]
  },
  {
   "cell_type": "code",
   "execution_count": null,
   "metadata": {},
   "outputs": [],
   "source": [
    "# replace the '\\N' values with NaN values\n",
    "\n",
    "df_race_finished.replace('\\\\N', np.NaN, inplace = True)"
   ]
  },
  {
   "cell_type": "code",
   "execution_count": null,
   "metadata": {},
   "outputs": [],
   "source": [
    "# convert the columns with the correct datatype \n",
    "\n",
    "df_race_finished['position'] = df_race_finished['position'].astype(\"Int64\")\n",
    "df_race_finished['fastestLap'] = df_race_finished['fastestLap'].astype(\"Int64\")\n",
    "df_race_finished['rank'] = df_race_finished['rank'].astype(\"Int64\")\n",
    "df_race_finished['fastestLapSpeed'] = df_race_finished['fastestLapSpeed'].astype(float)"
   ]
  },
  {
   "cell_type": "code",
   "execution_count": null,
   "metadata": {},
   "outputs": [],
   "source": [
    "df_race_finished.isnull().sum()"
   ]
  },
  {
   "cell_type": "code",
   "execution_count": null,
   "metadata": {},
   "outputs": [],
   "source": [
    "# check that the selected columns' datatypes are corrected\n",
    "df_race_finished.info()"
   ]
  },
  {
   "cell_type": "markdown",
   "metadata": {},
   "source": [
    "###  Descriptive statistics  <a id=\"part8.1\"></a>"
   ]
  },
  {
   "cell_type": "code",
   "execution_count": null,
   "metadata": {},
   "outputs": [],
   "source": [
    "# Use descriptive statistics to check if there are anything amiss in each numerical column. \n",
    "# All variables seem ok at the moment (no negative values observed).\n",
    "\n",
    "df_race_finished.describe()"
   ]
  },
  {
   "cell_type": "markdown",
   "metadata": {},
   "source": [
    "###  Correlation  <a id=\"part8.2\"></a>"
   ]
  },
  {
   "cell_type": "markdown",
   "metadata": {},
   "source": [
    "#### grid, rank (Input variables) vs. points (Target variable) are highly negatively correlated to each other. Rank and grid, as well as laps and fastestLap are positively correlated to each other. "
   ]
  },
  {
   "cell_type": "code",
   "execution_count": null,
   "metadata": {},
   "outputs": [],
   "source": [
    "num_cols = [n for n in df_race_finished.columns if df_race_finished[n].dtypes != \"O\"]\n",
    "\n",
    "# Use correlation to check if there are features that are highly correlated to each other\n",
    "\n",
    "plt.title(\"Correlation of features in Formula One Dataset\") # title name\n",
    "sns.heatmap(df_race_finished[num_cols].corr(), cmap = 'coolwarm') # generate a heatmap using sns.heatmap(df_race_finished.corr(), cmap = 'coolwarm')"
   ]
  },
  {
   "cell_type": "markdown",
   "metadata": {},
   "source": [
    "### Univariate analysis - numerical variables  <a id=\"part8.3\"></a>"
   ]
  },
  {
   "cell_type": "code",
   "execution_count": null,
   "metadata": {},
   "outputs": [],
   "source": [
    "# find all numerical variables\n",
    "\n",
    "num_cols = [c for c in df_race_finished.columns if df_race_finished[c].dtypes !='O']\n",
    "df_race_finished[num_cols].head()"
   ]
  },
  {
   "cell_type": "code",
   "execution_count": null,
   "metadata": {},
   "outputs": [],
   "source": [
    "cat_cols = [c for c in df_race_finished.columns if df_race_finished[c].dtypes =='O']"
   ]
  },
  {
   "cell_type": "code",
   "execution_count": null,
   "metadata": {
    "scrolled": false
   },
   "outputs": [],
   "source": [
    "df_race_finished[num_cols].columns"
   ]
  },
  {
   "cell_type": "code",
   "execution_count": null,
   "metadata": {},
   "outputs": [],
   "source": [
    "df_race_finished[cat_cols].columns"
   ]
  },
  {
   "cell_type": "code",
   "execution_count": null,
   "metadata": {},
   "outputs": [],
   "source": [
    "# plot histograms of the num variables\n",
    "\n",
    "df_race_finished[num_cols].hist(bins=30, figsize=(12,12))\n",
    "plt.show()"
   ]
  },
  {
   "cell_type": "code",
   "execution_count": null,
   "metadata": {},
   "outputs": [],
   "source": [
    "df_race_finished.info()"
   ]
  },
  {
   "cell_type": "code",
   "execution_count": null,
   "metadata": {},
   "outputs": [],
   "source": [
    "for col in df_race_finished.columns:\n",
    "    print(col)\n",
    "    print(df_race_finished[col].unique())\n",
    "    print(\"===========================\")\n",
    "    print()"
   ]
  },
  {
   "cell_type": "code",
   "execution_count": null,
   "metadata": {},
   "outputs": [],
   "source": [
    "df_race_finished.to_csv(\"./processed_data/F1_race.csv\", index=False)"
   ]
  },
  {
   "cell_type": "markdown",
   "metadata": {},
   "source": [
    "## End of Notebook"
   ]
  }
 ],
 "metadata": {
  "kernelspec": {
   "display_name": "Python 3 (ipykernel)",
   "language": "python",
   "name": "python3"
  },
  "language_info": {
   "codemirror_mode": {
    "name": "ipython",
    "version": 3
   },
   "file_extension": ".py",
   "mimetype": "text/x-python",
   "name": "python",
   "nbconvert_exporter": "python",
   "pygments_lexer": "ipython3",
   "version": "3.8.0"
  }
 },
 "nbformat": 4,
 "nbformat_minor": 4
}
